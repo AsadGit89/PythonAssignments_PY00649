{
 "cells": [
  {
   "cell_type": "code",
   "execution_count": 30,
   "metadata": {},
   "outputs": [
    {
     "name": "stdout",
     "output_type": "stream",
     "text": [
      "!!!  MarkSheet  !!!\n",
      "Enter English Marks Obtained   !55\n",
      "Enter Pyhsics Marks Obtained   !67\n",
      "Enter Chemistry Marks Obtained !87\n",
      "Enter Islamiat Marks Obtained  !89\n",
      "Enter Maths Marks Obtained     !90\n",
      "Total Marks                    ! 500\n",
      "Obtained Marks                 ! 388\n",
      "Percentage Got                 ! 77.60000000000001 %\n",
      "Grade: C\n"
     ]
    }
   ],
   "source": [
    "print(\"!!!  MarkSheet  !!!\")\n",
    "English   = int(input(\"Enter English Marks Obtained   !\"))\n",
    "Pyhsics   = int(input(\"Enter Pyhsics Marks Obtained   !\"))\n",
    "Chemistry = int(input(\"Enter Chemistry Marks Obtained !\"))\n",
    "Islamiat  = int(input(\"Enter Islamiat Marks Obtained  !\"))\n",
    "Maths     = int(input(\"Enter Maths Marks Obtained     !\"))\n",
    "MarksObtain = English + Pyhsics +  Chemistry + Islamiat +  Maths\n",
    "Total = 500\n",
    "print(\"Total Marks                    !\",Total)\n",
    "print(\"Obtained Marks                 !\",MarksObtain)\n",
    "Percentage = (MarksObtain / Total) * 100\n",
    "print(\"Percentage Got                 !\",Percentage,\"%\")\n",
    "if(Percentage>=90):\n",
    "    print(\"Grade: A\")\n",
    "elif(Percentage>=80 and Percentage<90):\n",
    "    print(\"Grade: B\")\n",
    "elif(Percentage>=70 and Percentage<80):\n",
    "    print(\"Grade: C\")\n",
    "elif(Percentage>=60 and Percentage<70):\n",
    "    print(\"Grade: D\")\n",
    "else:\n",
    "    print(\"Grade: F\")"
   ]
  },
  {
   "cell_type": "markdown",
   "metadata": {},
   "source": [
    " "
   ]
  },
  {
   "cell_type": "code",
   "execution_count": 47,
   "metadata": {},
   "outputs": [
    {
     "name": "stdout",
     "output_type": "stream",
     "text": [
      "Enter a number: 5\n",
      "This is an odd number.\n"
     ]
    }
   ],
   "source": [
    "number = int(input(\"Enter a number: \"))\n",
    "Remainder = number % 2\n",
    "if Remainder > 0 :\n",
    "    print(\"This is an odd number.\")\n",
    "else :\n",
    "    print(\"This is an even number.\")\n",
    "\t "
   ]
  },
  {
   "cell_type": "code",
   "execution_count": 3,
   "metadata": {},
   "outputs": [
    {
     "name": "stdout",
     "output_type": "stream",
     "text": [
      "The Length Of The List is :  5\n"
     ]
    }
   ],
   "source": [
    "List = [\"APPLE\",\"BANANA\",\"CAT\",\"DUCK\",\"ELEPHANT\"]\n",
    "ListLenght = len(List)\n",
    "print(\"The Length Of The List is : \",ListLenght)"
   ]
  },
  {
   "cell_type": "code",
   "execution_count": 8,
   "metadata": {},
   "outputs": [
    {
     "name": "stdout",
     "output_type": "stream",
     "text": [
      "The Sum is :  15\n"
     ]
    }
   ],
   "source": [
    "List = [1,2,3,4,5]\n",
    "Sum =sum(List)\n",
    "print(\"The Sum is : \",Sum)"
   ]
  },
  {
   "cell_type": "code",
   "execution_count": 10,
   "metadata": {},
   "outputs": [
    {
     "name": "stdout",
     "output_type": "stream",
     "text": [
      "Maximum No is :  5\n"
     ]
    }
   ],
   "source": [
    "List = [1,2,3,4,5]\n",
    "Max =  max(List)\n",
    "print(\"Maximum No is : \",Max)"
   ]
  },
  {
   "cell_type": "code",
   "execution_count": 11,
   "metadata": {},
   "outputs": [
    {
     "name": "stdout",
     "output_type": "stream",
     "text": [
      "1\n",
      "1\n",
      "2\n",
      "3\n"
     ]
    }
   ],
   "source": [
    "List = [1, 1, 2, 3, 5, 8, 13, 21, 34, 55, 89]\n",
    "for i in List:\n",
    "    if i < 5:\n",
    "        print(i)"
   ]
  },
  {
   "cell_type": "code",
   "execution_count": null,
   "metadata": {},
   "outputs": [],
   "source": []
  }
 ],
 "metadata": {
  "kernelspec": {
   "display_name": "Python 3",
   "language": "python",
   "name": "python3"
  },
  "language_info": {
   "codemirror_mode": {
    "name": "ipython",
    "version": 3
   },
   "file_extension": ".py",
   "mimetype": "text/x-python",
   "name": "python",
   "nbconvert_exporter": "python",
   "pygments_lexer": "ipython3",
   "version": "3.7.4"
  }
 },
 "nbformat": 4,
 "nbformat_minor": 2
}
