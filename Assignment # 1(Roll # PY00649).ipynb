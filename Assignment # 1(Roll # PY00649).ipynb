{
 "cells": [
  {
   "cell_type": "code",
   "execution_count": 24,
   "metadata": {},
   "outputs": [
    {
     "name": "stdout",
     "output_type": "stream",
     "text": [
      "Twinkle, twinkle, little star,\n",
      "      How I wonder what you are! \n",
      "           Up above the world so high,\n",
      "           Like a diamond in the sky.\n",
      "Twinkle, twinkle, little star,\n",
      "      How I wonder what you are\n"
     ]
    }
   ],
   "source": [
    "A1 = \"Twinkle, twinkle, little star,\"\n",
    "A2 = \"How I wonder what you are! \"\n",
    "A3 = \"Up above the world so high,\"\n",
    "A4 = \"Like a diamond in the sky.\"\n",
    "A5 = \"Twinkle, twinkle, little star,\"\n",
    "A6 = \"How I wonder what you are\"\n",
    "print (A1 + \"\\n\" +\"      \"+  A2 + \"\\n\" + \"           \" + A3 + \"\\n\" + \"           \" + A4 + \"\\n\" + A5 + \"\\n\" + \"      \" + A6)"
   ]
  },
  {
   "cell_type": "code",
   "execution_count": 26,
   "metadata": {},
   "outputs": [
    {
     "name": "stdout",
     "output_type": "stream",
     "text": [
      "Python version\n",
      "3.7.4 (default, Aug  9 2019, 18:34:13) [MSC v.1915 64 bit (AMD64)]\n"
     ]
    }
   ],
   "source": [
    "import sys\n",
    "print(\"Python version\")\n",
    "print (sys.version)"
   ]
  },
  {
   "cell_type": "code",
   "execution_count": 27,
   "metadata": {},
   "outputs": [
    {
     "name": "stdout",
     "output_type": "stream",
     "text": [
      "Current date and time : \n",
      "2019-11-03 02:38:21\n"
     ]
    }
   ],
   "source": [
    "import datetime\n",
    "now = datetime.datetime.now()\n",
    "print (\"Current date and time : \")\n",
    "print (now.strftime(\"%Y-%m-%d %H:%M:%S\"))"
   ]
  },
  {
   "cell_type": "code",
   "execution_count": 37,
   "metadata": {},
   "outputs": [
    {
     "name": "stdout",
     "output_type": "stream",
     "text": [
      "Enter The Radius : \n",
      "1\n",
      "The Area of The Circle is : \n",
      " 3.14\n"
     ]
    }
   ],
   "source": [
    "r_Sqr = int(input(\"Enter The Radius : \" + \"\\n\"))\n",
    "r_Sqr *= r_Sqr \n",
    "pie = 3.14\n",
    "area = pie * r_Sqr\n",
    "print(\"The Area of The Circle is : \" + \"\\n\",area)"
   ]
  },
  {
   "cell_type": "code",
   "execution_count": 69,
   "metadata": {},
   "outputs": [
    {
     "name": "stdout",
     "output_type": "stream",
     "text": [
      "Enter The First Name :asad\n",
      "Enter The Last  Name :ali\n",
      "ila dasa\n"
     ]
    }
   ],
   "source": [
    "Fname = input(\"Enter The First Name :\" )\n",
    "Lname = input(\"Enter The Last  Name :\" )\n",
    "Name = Fname + \" \" + Lname\n",
    "reversed = Name [::-1]\n",
    "print(reversed)\n"
   ]
  },
  {
   "cell_type": "code",
   "execution_count": 57,
   "metadata": {},
   "outputs": [
    {
     "name": "stdout",
     "output_type": "stream",
     "text": [
      "Enter The Value 1 : \n",
      "1\n",
      "Enter The Value 2 : \n",
      "2\n",
      "The Addition of Two Number is :  3\n"
     ]
    }
   ],
   "source": [
    "Num1 = int(input(\"Enter The Value 1 : \" + \"\\n\"))\n",
    "Num2 = int(input(\"Enter The Value 2 : \" + \"\\n\"))\n",
    "Result = Num1 + Num2\n",
    "print(\"The Addition of Two Number is : \",Result)"
   ]
  },
  {
   "cell_type": "code",
   "execution_count": null,
   "metadata": {},
   "outputs": [],
   "source": []
  },
  {
   "cell_type": "code",
   "execution_count": null,
   "metadata": {},
   "outputs": [],
   "source": []
  }
 ],
 "metadata": {
  "kernelspec": {
   "display_name": "Python 3",
   "language": "python",
   "name": "python3"
  },
  "language_info": {
   "codemirror_mode": {
    "name": "ipython",
    "version": 3
   },
   "file_extension": ".py",
   "mimetype": "text/x-python",
   "name": "python",
   "nbconvert_exporter": "python",
   "pygments_lexer": "ipython3",
   "version": "3.7.4"
  }
 },
 "nbformat": 4,
 "nbformat_minor": 2
}
