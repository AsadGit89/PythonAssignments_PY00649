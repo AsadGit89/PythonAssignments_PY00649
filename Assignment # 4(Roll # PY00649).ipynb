{
 "cells": [
  {
   "cell_type": "code",
   "execution_count": 1,
   "metadata": {},
   "outputs": [
    {
     "name": "stdout",
     "output_type": "stream",
     "text": [
      "My favourite Book Is 50 Shades Of Gray\n"
     ]
    }
   ],
   "source": [
    "def my_function(title):\n",
    "  print(\"My favourite Book Is\" + \" \" + title)\n",
    "my_function(\"50 Shades Of Gray\")"
   ]
  },
  {
   "cell_type": "code",
   "execution_count": 2,
   "metadata": {},
   "outputs": [
    {
     "name": "stdout",
     "output_type": "stream",
     "text": [
      "{'FirstName': 'Asad', 'LastName': 'Waheed', 'age': '30', 'City': 'Karachi'}\n"
     ]
    }
   ],
   "source": [
    "people =  {'FirstName': 'Asad','LastName': 'Waheed' , 'age': '30', 'City': 'Karachi'}\n",
    "dict1 =  {'Qualification': 'Matric'}\n",
    "people.update(dict1)\n",
    "people[\"Qualification\"] = 'Graduate'\n",
    "del people[\"Qualification\"]\n",
    "print(people)"
   ]
  },
  {
   "cell_type": "code",
   "execution_count": 3,
   "metadata": {},
   "outputs": [
    {
     "name": "stdout",
     "output_type": "stream",
     "text": [
      "{'karachi': {'Country': 'Karachi', 'Population': '100000000', 'Fact': 'Runs The Whole Pakistan'}, 'Venice': {'Country': 'Italy', 'Population': '1000000', 'Fact': 'One of the narrowest streets in the world is located in Venice.'}}\n"
     ]
    }
   ],
   "source": [
    "cities =  {'karachi' : {'Country': 'Karachi','Population': '100000000','Fact': 'Runs The Whole Pakistan'},\n",
    "           'Venice'  : {'Country': 'Italy','Population': '1000000','Fact': 'One of the narrowest streets in the world is located in Venice.'},\n",
    "          }\n",
    "print(cities)"
   ]
  },
  {
   "cell_type": "code",
   "execution_count": null,
   "metadata": {},
   "outputs": [
    {
     "name": "stdout",
     "output_type": "stream",
     "text": [
      "How old are you?\n",
      " Enter 'quit' when you are finished. 4\n",
      "  Your ticket is $10.\n"
     ]
    }
   ],
   "source": [
    "prompt = \"How old are you?\"\n",
    "prompt += \"\\n Enter 'quit' when you are finished. \"\n",
    "\n",
    "while True:\n",
    "    age = input(prompt)\n",
    "    if age == 'quit':\n",
    "        break\n",
    "    age = int(age)\n",
    "\n",
    "    if age < 3:\n",
    "        print(\"  You get in free!\")\n",
    "    elif age > 3 and age <= 12:\n",
    "        print(\"  Your ticket is $10.\")\n",
    "    else:\n",
    "        print(\"  Your ticket is $15.\")"
   ]
  },
  {
   "cell_type": "code",
   "execution_count": null,
   "metadata": {},
   "outputs": [],
   "source": [
    "import random\n",
    " \n",
    "\n",
    "winning_number = random.randint(1,30)\n",
    "guesses_remaining = 3\n",
    " \n",
    "print(\"You have four attempts to guess the correct number. Give it a shot!\")\n",
    " \n",
    "keep_playing = \"true\"\n",
    "while keep_playing == \"true\":   \n",
    "    guess = int(input(\"\\nGuess a number between 1 and 30: \"))\n",
    "    guesses_remaining = guesses_remaining - 1\n",
    "    if guess == winning_number:\n",
    "        print (\"Winner! Winner! You guessed the correct number. \")\n",
    "        # End game after correct guess.\n",
    "        keep_playing = \"false\"\n",
    "    else:\n",
    "        if guesses_remaining == 0:\n",
    "            print (\"\\nYou are out of tries! The winning number was:\",winning_number, \"\\n\\nBetter luck next time!\")\n",
    "        # End game after max attempts.\n",
    "            keep_playing = \"false\"\n",
    "        elif guess != winning_number:\n",
    "            print(\"\\nSorry, that is not the correct number. Try again!\")"
   ]
  },
  {
   "cell_type": "code",
   "execution_count": null,
   "metadata": {},
   "outputs": [],
   "source": []
  }
 ],
 "metadata": {
  "kernelspec": {
   "display_name": "Python 3",
   "language": "python",
   "name": "python3"
  },
  "language_info": {
   "codemirror_mode": {
    "name": "ipython",
    "version": 3
   },
   "file_extension": ".py",
   "mimetype": "text/x-python",
   "name": "python",
   "nbconvert_exporter": "python",
   "pygments_lexer": "ipython3",
   "version": "3.7.4"
  }
 },
 "nbformat": 4,
 "nbformat_minor": 2
}
